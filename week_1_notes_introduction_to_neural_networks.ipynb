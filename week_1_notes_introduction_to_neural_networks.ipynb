{
 "cells": [
  {
   "cell_type": "markdown",
   "metadata": {},
   "source": [
    "# Week 1 Notes - Deep Learning Foundations Nanodegree"
   ]
  },
  {
   "cell_type": "markdown",
   "metadata": {},
   "source": [
    "## Table of Contents\n",
    "\n",
    " * [Neural network](#Neural-network)\n",
    "     * [Output Formula](#Output-Formula)\n",
    "     * [Intuition](#Intuition)\n",
    "     * [AND / OR perceptron](#AND-/-OR-perceptron)\n",
    "     * [NOT perceptron](#NOT-perceptron)\n",
    "     * [XOR perceptron](#XOR-perceptron)\n",
    " \n",
    " \n",
    " * [Activation functions](#Activation-functions)\n",
    "     * [Summary](#AF-Summary)\n",
    "     * [Deep Learning Book extra notes from Chapter 6: Deep Feedforward Networks](#Taken-from-Deep-Learning-Book---Chapter-6:-Deep-Feedforward-Networks:)\n",
    "     * [Activation Formula](#Activation-Formula)\n",
    "     * [Sigmoid](#Sigmoid)\n",
    "     * [Tanh](#Tanh)\n",
    "     * [Tanh Alternative Formula](#Tanh-Alternative-Formula)\n",
    "     * [Softmax](#Softmax)\n",
    " \n",
    " \n",
    " * [Gradient Descent](#Gradient-Descent)\n",
    " \n",
    " \n",
    " * [Multilayer Perceptrons](#Multilayer-Perceptrons)\n",
    " \n",
    " \n",
    " * [Backpropogation](#Backpropogation)\n",
    "\n",
    "\n",
    " * [Additional Reading](#Additional-Reading)\n",
    " \n",
    " \n",
    " * [Additional Videos](#Additional-Videos)"
   ]
  },
  {
   "cell_type": "code",
   "execution_count": null,
   "metadata": {
    "collapsed": true
   },
   "outputs": [],
   "source": []
  },
  {
   "cell_type": "markdown",
   "metadata": {},
   "source": [
    "# Setup"
   ]
  },
  {
   "cell_type": "code",
   "execution_count": 1,
   "metadata": {
    "collapsed": false
   },
   "outputs": [],
   "source": [
    "%matplotlib inline\n",
    "\n",
    "import matplotlib\n",
    "import matplotlib.pyplot as plt\n",
    "import numpy as np\n",
    "import tensorflow as tf\n",
    "\n",
    "plt.style.use('bmh')\n",
    "matplotlib.rcParams['figure.figsize'] = (15, 4)"
   ]
  },
  {
   "cell_type": "markdown",
   "metadata": {},
   "source": [
    "[[Top]](#Table-of-Contents)"
   ]
  },
  {
   "cell_type": "markdown",
   "metadata": {},
   "source": [
    "---\n",
    "# Neural network"
   ]
  },
  {
   "cell_type": "markdown",
   "metadata": {},
   "source": [
    "[[Top]](#Table-of-Contents)"
   ]
  },
  {
   "cell_type": "markdown",
   "metadata": {
    "collapsed": true
   },
   "source": [
    "## Output Formula\n",
    "### Synonym\n",
    " * The predicted value\n",
    " * The prediction\n",
    " \n",
    "\\begin{equation*}\n",
    "\\hat y_j^\\mu = f \\left(\\Sigma_i w_{ij} x_i^\\mu\\right)\n",
    "\\end{equation*}\n",
    "\n",
    "## Intuition\n",
    "<img src=\"images/simple-nn.png\",width=450,height=200>\n",
    "\n",
    "[[Top]](#Table-of-Contents)\n",
    "\n",
    "## AND / OR perceptron\n",
    "<img src=\"images/and-or-perceptron.png\",width=450,height=200>\n",
    "\n",
    "[[Top]](#Table-of-Contents)\n",
    "\n",
    "## NOT perceptron\n",
    "The NOT operations only cares about one input. The other inputs to the perceptron are ignored.\n",
    "\n",
    "[[Top]](#Table-of-Contents)\n",
    "\n",
    "## XOR perceptron\n",
    "An XOR perceptron is a logic gate that outputs 0 if the inputs are the same and 1 if the inputs are different. \n",
    "<img src=\"images/xor-perceptron.png\",width=450,height=200>"
   ]
  },
  {
   "cell_type": "markdown",
   "metadata": {},
   "source": [
    "[[Top]](#Table-of-Contents)"
   ]
  },
  {
   "cell_type": "markdown",
   "metadata": {},
   "source": [
    "---\n",
    "# [Activation functions](https://en.wikipedia.org/wiki/Activation_function#Comparison_of_activation_functions)"
   ]
  },
  {
   "cell_type": "markdown",
   "metadata": {},
   "source": [
    "[[Top]](#Table-of-Contents)"
   ]
  },
  {
   "cell_type": "markdown",
   "metadata": {},
   "source": [
    "## AF Summary\n",
    "Activation functions can be for\n",
    " * Binary outcomes (2 classes, e.g {True, False})\n",
    " * Multiclass outcomes\n",
    "\n",
    "*Binary activation functions* include:\n",
    " * Sigmoid\n",
    " * Hyperbolic tangent (and the alternative formula provided by LeCun et el, 1998)\n",
    " * Rectified linear unit\n",
    " \n",
    "*Multi-class activation functions* include:\n",
    " * Softmax"
   ]
  },
  {
   "cell_type": "markdown",
   "metadata": {},
   "source": [
    "[[Top]](#Table-of-Contents)"
   ]
  },
  {
   "cell_type": "markdown",
   "metadata": {},
   "source": [
    "---\n",
    "## Taken from [Deep Learning Book - Chapter 6: Deep Feedforward Networks](http://www.deeplearningbook.org/contents/mlp.html):\n",
    "\n",
    "**6.2.2 Output Units**\n",
    " * Any kind of neural network unit that may be used as an output can also be used as a hidden unit.\n",
    "\n",
    "**6.3 Hidden Units**\n",
    " * Rectiﬁed linear units are an **excellent default choice** of hidden unit. *(My note: They are not covered in week one)*\n",
    " \n",
    "**6.3.1 Rectified Linear Units and Their Generalizations**\n",
    " * g(z) = max{0, z}\n",
    " * One drawback to rectiﬁed linear units is that they cannot learn via gradient-based methods on examples for which their activation is zero.\n",
    " * **Maxout units** generalize rectiﬁed linear units further.\n",
    " * Maxout units can thus be seen as **learning the activation function itself** rather than just the relationship between units.\n",
    " * Maxout units typically need more regularization than rectiﬁed linear units. They can work well without regularization if the training set is large and the number of pieces per unit is kept low.\n",
    " * Rectiﬁed linear units and all of these generalizations of them are based on the principle that models are easier to optimize if their behavior is closer to linear.\n",
    " \n",
    "**6.3.2 Logistic Sigmoid and Hyperbolic Tangent**\n",
    " * ... use as hidden units in feedforward networks is now **discouraged**.\n",
    " * Sigmoidal activation functions are more common in settings other than feed-forward networks. Recurrent networks, many probabilistic models, and some auto-encoders have additional requirements that rule out the use of piecewise linear activation functions and make sigmoidal units more appealing despite the drawbacks of saturation.\n",
    " \n",
    " \n",
    " * Note: Saturation as an issue is also in the extra reading, [Yes, you should understand backprop](https://medium.com/@karpathy/yes-you-should-understand-backprop-e2f06eab496b#.vt3ax2kg9), and also raised in [Effecient Backprop, LeCun et el., 1998](http://yann.lecun.com/exdb/publis/pdf/lecun-98b.pdf) and was one of the reasons cited for modifying the tanh function in this paper.\n",
    " \n",
    " \n",
    "**6.6 Historical notes**\n",
    " * The core ideas behind modern feedforward networks have not changed substantially since the 1980s. The same back-propagation algorithm and the same approaches to gradient descent are still in use\n",
    " * Most of the improvement in neural network performance from 1986 to 2015 can be attributed to two factors.\n",
    "  * larger datasets have reduced the degree to which statistical generalization is a challenge for neural networks\n",
    "  * neural networks have become much larger, due to more powerful computers, and better software infrastructure\n",
    " * However, a small number of algorithmic changes have improved the performance of neural networks\n",
    "  * ... replacement of mean squared error with the cross-entropy family of loss functions. Cross-entropy losses greatly improved the performance of models with sigmoid and softmax outputs, which had previously suﬀered from saturation and slow learning when using the mean squared error loss\n",
    "  * ... replacement of sigmoid hidden units with piecewise linear hidden units, such as rectiﬁed linear units\n",
    "\n",
    "\n",
    "[[Top]](#Table-of-Contents)\n",
    "\n",
    "\n",
    "## Activation Formula\n",
    "\\begin{equation*}\n",
    "a = f(x) = \\{sigmoid, tanh, softmax, \\text{or some other function not listed in this set}\\}\n",
    "\\end{equation*}\n",
    "\n",
    "where:\n",
    "* $a$ is the activation function transformation of the output from $h$, e.g. apply the sigmoid function to $h$\n",
    "\n",
    "and\n",
    "\n",
    "\\begin{equation*}\n",
    "h = \\Sigma_i w_i x_i + b\n",
    "\\end{equation*}\n",
    "\n",
    "where:\n",
    " * $x_i$ are the incoming inputs. A perceptron can have one or more inputs.\n",
    " * $w_i$ are the weights being assigned to the respective incoming inputs\n",
    " * $b$ is a bias term\n",
    " * $h$ is the sum of the weighted input values + a bias figure\n",
    " \n",
    "\n",
    "<img src=\"images/artificial-neural-network.png\",width=450,height=200>\n",
    "\n",
    "\n",
    "[[Top]](#Table-of-Contents)"
   ]
  },
  {
   "cell_type": "markdown",
   "metadata": {},
   "source": [
    "---\n",
    "\n",
    "## [Sigmoid](http://ufldl.stanford.edu/tutorial/supervised/LogisticRegression/)\n",
    "### Synonyms:\n",
    " * [Logistic function](https://en.wikipedia.org/wiki/Logistic_function)\n",
    " \n",
    "### Summary\n",
    "A sigmoid function is a mathematical function having an \"S\" shaped curve (sigmoid curve). Often, sigmoid function refers to the special case of the logistic function.\n",
    "\n",
    "The sigmoid function is bounded between 0 and 1, and as an **output can be interpreted as a probability for success**.\n",
    "\n",
    "### Formula\n",
    "\\begin{equation*}\n",
    "\\text{sigmoid}(x) =\n",
    "\\frac{1} {1 + e^{-x}}\n",
    "\\end{equation*}\n",
    "\n",
    "\\begin{equation*}\n",
    "\\text{logistic}(x) =\n",
    "\\frac{L} {1 + e^{-k(x - x_0)}}\n",
    "\\end{equation*}\n",
    "\n",
    "where:\n",
    " * $L$ = the curve's maximum value\n",
    " * $e$ = the natural logarithm base (also known as Euler's number)\n",
    " * $x_0$ = the x-value of the sigmoid's midpoint\n",
    " * $k$ = the steepness of the curve\n",
    " \n",
    "### Network output from activation\n",
    "\\begin{equation*}\n",
    "\\text{output} = a = f(h) = \\text{sigmoid}(\\Sigma_i w_i x_i + b)\n",
    "\\end{equation*}\n",
    "\n",
    "[[Top]](#Table-of-Contents)\n",
    "\n",
    "### Code"
   ]
  },
  {
   "cell_type": "code",
   "execution_count": 2,
   "metadata": {
    "collapsed": false
   },
   "outputs": [],
   "source": [
    "def sigmoid(x):\n",
    "    s = 1 / (1 + np.exp(-x))\n",
    "    return s"
   ]
  },
  {
   "cell_type": "code",
   "execution_count": 3,
   "metadata": {
    "collapsed": false
   },
   "outputs": [
    {
     "name": "stdout",
     "output_type": "stream",
     "text": [
      "0.72511949779\n"
     ]
    }
   ],
   "source": [
    "inputs = np.array([2.1, 1.5,])\n",
    "weights = np.array([0.2, 0.5,])\n",
    "bias = -0.2\n",
    "\n",
    "output = sigmoid(np.dot(weights, inputs) + bias)\n",
    "print(output)"
   ]
  },
  {
   "cell_type": "markdown",
   "metadata": {},
   "source": [
    "[[Top]](#Table-of-Contents)\n",
    "\n",
    "### Example"
   ]
  },
  {
   "cell_type": "code",
   "execution_count": 4,
   "metadata": {
    "collapsed": false
   },
   "outputs": [
    {
     "data": {
      "image/png": "[encoded data removed]",
      "text/plain": [
       "<matplotlib.figure.Figure at 0x7f8d27a0ac50>"
      ]
     },
     "metadata": {},
     "output_type": "display_data"
    }
   ],
   "source": [
    "x = np.linspace(start=-10, stop=11, num=100)\n",
    "y = sigmoid(x)\n",
    "\n",
    "upper_bound = np.repeat([1.0,], len(x))\n",
    "success_threshold = np.repeat([0.5,], len(x))\n",
    "lower_bound = np.repeat([0.0,], len(x))\n",
    "\n",
    "plt.plot(\n",
    "    # upper bound\n",
    "    x, upper_bound, 'w--',\n",
    "    \n",
    "    # success threshold\n",
    "    x, success_threshold, 'w--',\n",
    "    \n",
    "    # lower bound\n",
    "    x, lower_bound, 'w--',\n",
    "    \n",
    "    # sigmoid\n",
    "    x, y\n",
    ")\n",
    "\n",
    "plt.grid(False)\n",
    "plt.xlabel(r'$x$')\n",
    "plt.ylabel(r'Probability of success')\n",
    "plt.title('Sigmoid Function Example')\n",
    "plt.show()"
   ]
  },
  {
   "cell_type": "markdown",
   "metadata": {},
   "source": [
    "[[Top]](#Table-of-Contents)"
   ]
  },
  {
   "cell_type": "markdown",
   "metadata": {},
   "source": [
    "---\n",
    "\n",
    "## [Tanh](https://en.wikipedia.org/wiki/Hyperbolic_function#Hyperbolic_tangent)\n",
    "### Synonyms:\n",
    " * [Hyperbolic tangent](https://en.wikipedia.org/wiki/Hyperbolic_function#Hyperbolic_tangent)\n",
    " \n",
    "### Summary\n",
    "Just as the points (cos t, sin t) form a circle with a unit radius, the points (cosh t, sinh t) form the right half of the equilateral hyperbola.\n",
    "\n",
    "The tanh function is bounded between -1 and 1, and as an **output can be interpreted as a probability for success**, where the output value:\n",
    " * 1 = 100%\n",
    " * 0 = 50%\n",
    " * -1 = 0%\n",
    "\n",
    "The tanh function creates stronger gradients around zero, and therefore the derivatives are higher than the sigmoid function. Why this is important can apparently be found in [Effecient Backprop](http://yann.lecun.com/exdb/publis/pdf/lecun-98b.pdf) by LeCun et al (1998). Also see [this answer](http://stats.stackexchange.com/a/250456/5824) on Cross-Validated for a representation of the derivative values.\n",
    "\n",
    "### Formula\n",
    "\\begin{equation*}\n",
    "\\text{tanh}(x) =\n",
    "\\frac{2} {1 + e^{-2x}}\n",
    "- 1\n",
    "\\end{equation*}\n",
    "\n",
    "\n",
    "\\begin{equation*}\n",
    "\\text{tanh}(x) =\n",
    "\\frac{\\text{sinh}(x)} {\\text{cosh}(x)}\n",
    "\\end{equation*}\n",
    "\n",
    "where:\n",
    " * $e$ = the natural logarithm base (also known as Euler's number)\n",
    " * $sinh$ is the hyperbolic sine\n",
    " * $cosh$ is the hyperbolic cosine\n",
    "\n",
    "\n",
    "[[Top]](#Table-of-Contents)\n",
    " \n",
    " \n",
    "## [Tanh Alternative Formula](http://yann.lecun.com/exdb/publis/pdf/lecun-98b.pdf)\n",
    "\\begin{equation*}\n",
    "\\text{modified tanh}(x) =\n",
    "\\text{1.7159 tanh } \\left(\\frac{2}{3}x\\right)\n",
    "\\end{equation*}\n",
    "\n",
    "### Network output from activation\n",
    "\\begin{equation*}\n",
    "\\text{output} = a = f(h) = \\text{tanh}(\\Sigma_i w_i x_i + b)\n",
    "\\end{equation*}\n",
    "\n",
    "\n",
    "[[Top]](#Table-of-Contents)\n",
    "\n",
    "\n",
    "### Code\n"
   ]
  },
  {
   "cell_type": "code",
   "execution_count": 5,
   "metadata": {
    "collapsed": false
   },
   "outputs": [
    {
     "name": "stdout",
     "output_type": "stream",
     "text": [
      "0.748704286969\n"
     ]
    }
   ],
   "source": [
    "inputs = np.array([2.1, 1.5,])\n",
    "weights = np.array([0.2, 0.5,])\n",
    "bias = -0.2\n",
    "\n",
    "output = np.tanh(np.dot(weights, inputs) + bias)\n",
    "print(output)"
   ]
  },
  {
   "cell_type": "markdown",
   "metadata": {},
   "source": [
    "[[Top]](#Table-of-Contents)"
   ]
  },
  {
   "cell_type": "markdown",
   "metadata": {},
   "source": [
    "### Example"
   ]
  },
  {
   "cell_type": "code",
   "execution_count": 6,
   "metadata": {
    "collapsed": false
   },
   "outputs": [
    {
     "data": {
      "image/png": "[encoded data removed]",
      "text/plain": [
       "<matplotlib.figure.Figure at 0x7f8d25326160>"
      ]
     },
     "metadata": {},
     "output_type": "display_data"
    }
   ],
   "source": [
    "x = np.linspace(start=-10, stop=11, num=100)\n",
    "y = np.tanh(x)\n",
    "\n",
    "upper_bound = np.repeat([1.0,], len(x))\n",
    "success_threshold = np.repeat([0.0,], len(x))\n",
    "lower_bound = np.repeat([-1.0,], len(x))\n",
    "\n",
    "plt.plot(\n",
    "    # upper bound\n",
    "    x, upper_bound, 'w--',\n",
    "    \n",
    "    # success threshold\n",
    "    x, success_threshold, 'w--',\n",
    "    \n",
    "    # lower bound\n",
    "    x, lower_bound, 'w--',\n",
    "    \n",
    "    # sigmoid\n",
    "    x, y\n",
    ")\n",
    "\n",
    "plt.grid(False)\n",
    "plt.xlabel(r'$x$')\n",
    "plt.ylabel(r'Probability of success (0.00 = 50%)')\n",
    "plt.title('Tanh Function Example')\n",
    "plt.show()"
   ]
  },
  {
   "cell_type": "markdown",
   "metadata": {},
   "source": [
    "[[Top]](#Table-of-Contents)"
   ]
  },
  {
   "cell_type": "markdown",
   "metadata": {},
   "source": [
    "### Alternative Example"
   ]
  },
  {
   "cell_type": "code",
   "execution_count": 7,
   "metadata": {
    "collapsed": false
   },
   "outputs": [
    {
     "data": {
      "image/png": "[encoded data removed]",
      "text/plain": [
       "<matplotlib.figure.Figure at 0x7f8d2503eb00>"
      ]
     },
     "metadata": {},
     "output_type": "display_data"
    }
   ],
   "source": [
    "def modified_tanh(x):\n",
    "    return 1.7159 * np.tanh((2 / 3) * x)\n",
    "    \n",
    "x = np.linspace(start=-10, stop=11, num=100)\n",
    "y = modified_tanh(x)\n",
    "\n",
    "upper_bound = np.repeat([1.75,], len(x))\n",
    "success_threshold = np.repeat([0.0,], len(x))\n",
    "lower_bound = np.repeat([-1.75,], len(x))\n",
    "\n",
    "plt.plot(\n",
    "    # upper bound\n",
    "    x, upper_bound, 'w--',\n",
    "    \n",
    "    # success threshold\n",
    "    x, success_threshold, 'w--',\n",
    "    \n",
    "    # lower bound\n",
    "    x, lower_bound, 'w--',\n",
    "    \n",
    "    # sigmoid\n",
    "    x, y\n",
    ")\n",
    "\n",
    "plt.grid(False)\n",
    "plt.xlabel(r'$x$')\n",
    "plt.ylabel(r'Probability of success (0.00 = 50%)')\n",
    "plt.title('Alternative Tanh Function Example')\n",
    "plt.show()"
   ]
  },
  {
   "cell_type": "markdown",
   "metadata": {},
   "source": [
    "[[Top]](#Table-of-Contents)"
   ]
  },
  {
   "cell_type": "markdown",
   "metadata": {},
   "source": [
    "---\n",
    "\n",
    "## [Softmax](http://ufldl.stanford.edu/tutorial/supervised/SoftmaxRegression/)\n",
    "### Synonyms:\n",
    " * [Normalized exponential function](https://en.wikipedia.org/wiki/Softmax_function)\n",
    " * [Multinomial logistic regression](https://en.wikipedia.org/wiki/Multinomial_logistic_regression)\n",
    "\n",
    "### Summary\n",
    "Softmax regression is interested in multi-class classification (as opposed to only binary classification when using the sigmoid and tanh functions), and so the label $y$ can take on $K$ different values, rather than only two.\n",
    "\n",
    "Is often used as the output layer in multilayer perceptrons to allow non-linear relationships to be learnt for multiclass problems.\n",
    "\n",
    "### Formula\n",
    "From [Deep Learning Book - Chapter 4: Numerical Computation](http://www.deeplearningbook.org/contents/numerical.html)\n",
    "\n",
    "\\begin{equation*}\n",
    "\\text{softmax}(x)_i =\n",
    "\\frac{\\text{exp}(x_i)} {\\sum_{j=1}^n \\text{exp}(x_j)}\n",
    "\\end{equation*}\n",
    "\n",
    "\n",
    "### Network output from activation (incomplete)\n",
    "\\begin{equation*}\n",
    "\\text{output} = a = f(h) = \\text{softmax}()\n",
    "\\end{equation*}\n",
    "\n",
    "\n",
    "[[Top]](#Table-of-Contents)\n",
    "\n",
    "\n",
    "### Code\n",
    "[Link for a good discussion on SO](https://stackoverflow.com/questions/34968722/softmax-function-python) regarding Python implementation of this function, from which this code was taken from."
   ]
  },
  {
   "cell_type": "code",
   "execution_count": 8,
   "metadata": {
    "collapsed": false
   },
   "outputs": [
    {
     "data": {
      "text/plain": [
       "array([[ 0.00626879,  0.01704033,  0.04632042,  0.93037047],\n",
       "       [ 0.01203764,  0.08894682,  0.24178252,  0.65723302],\n",
       "       [ 0.00446236,  0.66227241,  0.24363641,  0.08962882]])"
      ]
     },
     "execution_count": 8,
     "metadata": {},
     "output_type": "execute_result"
    }
   ],
   "source": [
    "def softmax(X):\n",
    "    assert len(X.shape) == 2\n",
    "    s = np.max(X, axis=1)\n",
    "    s = s[:, np.newaxis] # necessary step to do broadcasting\n",
    "    e_x = np.exp(X - s)\n",
    "    div = np.sum(e_x, axis=1)\n",
    "    div = div[:, np.newaxis] # dito\n",
    "    return e_x / div\n",
    "\n",
    "X = np.array([[1, 2, 3, 6],\n",
    "              [2, 4, 5, 6],\n",
    "              [3, 8, 7, 6]])\n",
    "y = softmax(X)\n",
    "y"
   ]
  },
  {
   "cell_type": "code",
   "execution_count": 13,
   "metadata": {
    "collapsed": false
   },
   "outputs": [
    {
     "data": {
      "text/plain": [
       "array([[ 0.00626879,  0.01704033,  0.04632042,  0.93037045],\n",
       "       [ 0.01203764,  0.08894681,  0.24178252,  0.657233  ],\n",
       "       [ 0.00446236,  0.66227239,  0.2436364 ,  0.08962882]], dtype=float32)"
      ]
     },
     "execution_count": 13,
     "metadata": {},
     "output_type": "execute_result"
    }
   ],
   "source": [
    "# compared to tensorflow implementation\n",
    "batch = np.asarray([[1,2,3,6], [2,4,5,6], [3, 8, 7, 6]])\n",
    "x = tf.placeholder(tf.float32, shape=[None, 4])\n",
    "y = tf.nn.softmax(x)\n",
    "\n",
    "init = tf.global_variables_initializer()\n",
    "sess = tf.Session()\n",
    "\n",
    "sess.run(y, feed_dict={x: batch})"
   ]
  },
  {
   "cell_type": "markdown",
   "metadata": {},
   "source": [
    "[[Top]](#Table-of-Contents)"
   ]
  },
  {
   "cell_type": "markdown",
   "metadata": {},
   "source": [
    "## Gradient Descent\n",
    "\n",
    "### Learning weights\n",
    "What if you want to perform an operation, such as predicting college admission, but don't know the correct weights? You'll need to learn the weights from example data, then use those weights to make the predictions.\n",
    "\n",
    "We need a metric of how wrong the predictions are, the error.\n",
    "\n",
    "### Sum of squared errors (SSE)\n",
    "\\begin{equation*}\n",
    "E =\n",
    "\\frac{1}{2} \\Sigma_u \\Sigma_j \\left [ y_j ^ \\mu - \\hat y_j^ \\mu \\right ] ^ 2\n",
    "\\end{equation*}\n",
    "\n",
    "where (neural network prediction):\n",
    "\n",
    "\\begin{equation*}\n",
    "\\hat y_j^\\mu = \n",
    "f \\left(\\Sigma_i w_{ij} x_i^\\mu\\right)\n",
    "\\end{equation*}\n",
    "\n",
    "therefore:\n",
    "\\begin{equation*}\n",
    "E =\n",
    "\\frac{1}{2} \\Sigma_u \\Sigma_j \\left [ y_j ^ \\mu - \n",
    "f \\left(\\Sigma_i w_{ij} x_i^\\mu\\right) \\right ] ^ 2\n",
    "\\end{equation*}\n",
    "\n",
    "\n",
    " \n",
    "\n",
    "### Goal\n",
    "Find weights $w_{ij}$ that minimize the squared error $E$.\n",
    "\n",
    "How? Gradient descent."
   ]
  },
  {
   "cell_type": "markdown",
   "metadata": {},
   "source": [
    "[[Top]](#Table-of-Contents)"
   ]
  },
  {
   "cell_type": "markdown",
   "metadata": {},
   "source": [
    "### Gradient Descent Formula\n",
    "\\begin{equation*}\n",
    "\\Delta w_{ij} = \\eta (y_j - \\hat y_j) f^\\prime (h_j) x_i\n",
    "\\end{equation*}\n",
    "\n",
    "remembering $h_j$ is the input to the output unit $j$:\n",
    "\\begin{equation*}\n",
    "h = \\sum_i w_{ij} x_i\n",
    "\\end{equation*}\n",
    "\n",
    "where: \n",
    " * $(y_j - \\hat y_j)$ is the prediction error.\n",
    "     * The larger this error is, the larger the gradient descent step should be.\n",
    " * $f^\\prime (h_j)$ is the gradient\n",
    "     * If the gradient is small, then a change in the unit input $h_j$ will have a small effect on the error.\n",
    "     * This term produces larger gradient descent steps for units that have larger gradients\n",
    "     \n",
    "The errors can be rewritten as:\n",
    "\\begin{equation*}\n",
    "\\delta_j = (y_j - \\hat y_j) f^\\prime (h_j)\n",
    "\\end{equation*}\n",
    "\n",
    "**Giving the gradient step as**:\n",
    "\\begin{equation*}\n",
    "\\Delta w_{ij} = \\eta \\delta_j x_i\n",
    "\\end{equation*}\n",
    "\n",
    "where:\n",
    " * $\\Delta w_{ij}$ is the (delta) change to the $i$th $j$th weight\n",
    " * $\\eta$ (eta) is the learning rate\n",
    " * $\\delta_j$ (delta j) is the prediction errors\n",
    " * $x_i$ is the input\n",
    " "
   ]
  },
  {
   "cell_type": "markdown",
   "metadata": {},
   "source": [
    "[[Top]](#Table-of-Contents)"
   ]
  },
  {
   "cell_type": "markdown",
   "metadata": {},
   "source": [
    "### Algorithm\n",
    " * Set the weight step to zero: $\\Delta w_i = 0$\n",
    " * For each record in the training data:\n",
    "    * Make a forward pass through the network, calculating the output $\\hat y = f(\\Sigma_i w_i x_i)$\n",
    "    * Calculate the error gradient in the output unit, $\\delta = (y − \\hat y) f^\\prime(\\Sigma_i w_i x_i)$\n",
    "    * Update the weight step $\\Delta w_i= \\Delta w_i + \\delta x_i$\n",
    " * Update the weights $w_i = w_i + \\frac{\\eta  \\Delta w_i} {m}$ where:\n",
    "     * η is the learning rate\n",
    "     * $m$ is the number of records\n",
    "     * Here we're averaging the weight steps to help reduce any large variations in the training data.\n",
    " * Repeat for $e$ epochs.\n",
    " \n",
    "[[Top]](#Table-of-Contents)\n",
    "\n",
    " \n",
    "### Code"
   ]
  },
  {
   "cell_type": "code",
   "execution_count": 10,
   "metadata": {
    "collapsed": false
   },
   "outputs": [],
   "source": [
    "# Defining the sigmoid function for activations\n",
    "def sigmoid(x):\n",
    "    return 1 / ( 1 + np.exp(-x))\n",
    "\n",
    "# Derivative of the sigmoid function\n",
    "def sigmoid_prime(x):\n",
    "    return sigmoid(x) * (1 - sigmoid(x))\n",
    "\n",
    "x = np.array([0.1, 0.3])\n",
    "y = 0.2\n",
    "weights = np.array([-0.8, 0.5])\n",
    "# probably use a vector named \"w\" instead of a name like this\n",
    "# to make code look more like algebra\n",
    "\n",
    "# The learning rate, eta in the weight step equation\n",
    "learnrate = 0.5\n",
    "\n",
    "# The neural network output\n",
    "nn_output = sigmoid(x[0] * weights[0] + x[1] * weights[1])\n",
    "# or nn_output = sigmoid(np.dot(weights, x))\n",
    "\n",
    "# output error\n",
    "error = y - nn_output\n",
    "\n",
    "# error gradient\n",
    "error_gradient = error * sigmoid_prime(np.dot(x, weights))\n",
    "# sigmoid_prime(x) is equal to -> nn_output * (1 - nn_output) \n",
    "\n",
    "# Gradient descent step\n",
    "del_w = [ learnrate * error_gradient * x[0],\n",
    "          learnrate * error_gradient * x[1]]\n",
    "# or del_w = learnrate * error_gradient * x"
   ]
  },
  {
   "cell_type": "markdown",
   "metadata": {},
   "source": [
    "[[Top]](#Table-of-Contents)"
   ]
  },
  {
   "cell_type": "markdown",
   "metadata": {},
   "source": [
    "### Caveat\n",
    "Gradient descent is reliant on beginnning weight values. If incorrect could result in convergergance occuring in a local minima, not a global minima.\n",
    "\n",
    "### [Momentum Term](http://sebastianruder.com/optimizing-gradient-descent/index.html#momentum)\n",
    "The momentum term increases for dimensions whose gradients point in the same directions and reduces updates for dimensions whose gradients change directions. As a result, we gain faster convergence and reduced oscillation."
   ]
  },
  {
   "cell_type": "markdown",
   "metadata": {},
   "source": [
    "[[Top]](#Table-of-Contents)"
   ]
  },
  {
   "cell_type": "markdown",
   "metadata": {},
   "source": [
    "---\n",
    "## Multilayer Perceptrons\n",
    "\n",
    "### Synonyms\n",
    " * MLP (just an acronym)\n",
    "\n",
    "### Numpy column vector\n",
    "Numpy arays are row vectors by default, and the `input_features.T` (transpose) transform still leaves it as a row vector. Instead we have to use (**use this one, makes more sense**):\n",
    "    \n",
    "    input_features = input_features[:, None]\n",
    "    \n",
    "Alternatively you can create an array with two dimensions then transpose it:\n",
    "\n",
    "    input_features = np.array(input_featuresm ndim=2).T"
   ]
  },
  {
   "cell_type": "markdown",
   "metadata": {},
   "source": [
    "[[Top]](#Table-of-Contents) "
   ]
  },
  {
   "cell_type": "markdown",
   "metadata": {},
   "source": [
    "### Code example setting up a MLP"
   ]
  },
  {
   "cell_type": "code",
   "execution_count": 11,
   "metadata": {
    "collapsed": false
   },
   "outputs": [
    {
     "name": "stdout",
     "output_type": "stream",
     "text": [
      "x shape\t\t\t= (4,)\n",
      "weights_in_hidden shape\t= (4, 3)\n",
      "weights_hidden_out\t= (3, 2)\n"
     ]
    }
   ],
   "source": [
    "# network size is a 4x3x2 network\n",
    "n_input = 4\n",
    "n_hidden = 3\n",
    "n_output = 2\n",
    "\n",
    "# make some fake data\n",
    "np.random.seed(42)\n",
    "x = np.random.randn(4)\n",
    "\n",
    "weights_in_hidden = np.random.normal(0, scale=0.1, size=(n_input, n_hidden))\n",
    "weights_hidden_out = np.random.normal(0, scale=0.1, size=(n_hidden, n_output))\n",
    "\n",
    "print('x shape\\t\\t\\t= {}'.format(x.shape))\n",
    "print('weights_in_hidden shape\\t= {}'.format(weights_in_hidden.shape))\n",
    "print('weights_hidden_out\\t= {}'.format(weights_hidden_out.shape))"
   ]
  },
  {
   "cell_type": "markdown",
   "metadata": {},
   "source": [
    "[[Top]](#Table-of-Contents)"
   ]
  },
  {
   "cell_type": "markdown",
   "metadata": {},
   "source": [
    "---\n",
    "## Backpropogation\n",
    "\n",
    "When doing the feed forward pass we are taking the inputs and using the weights (which are randomly assigned) to gain an output. In backprop you can view this as the errors (difference between prediction and actual expected value) being passed through the network using the weights again."
   ]
  },
  {
   "cell_type": "markdown",
   "metadata": {},
   "source": [
    "[[Top]](#Table-of-Contents)"
   ]
  },
  {
   "cell_type": "markdown",
   "metadata": {},
   "source": [
    "### Worked example\n",
    "\n",
    "<img src=\"images/backprop-network.png\", width=150>\n",
    " * Two layer network (Inputs not considered a layer, 1 hidden layer, 1 output layer):\n",
    " * Assume target outcome is $y = 1$.\n",
    " * Forward pass:\n",
    "    * Sigmoid input = $h = \\Sigma_i w_i x_i = 0.1 \\times 0.4 - 0.2 \\times 0.3 = -0.02$\n",
    "    * Activtion function = $a = f(h) = \\text{sigmoid}(-0.02) = 0.495$\n",
    "    * Predicted output = $ \\hat y = f(W \\cdot a) = \\text{sigmoid}(0.1 \\times 0.495) = 0.512$\n",
    " * Backwards pass:\n",
    "     * Sigmoid derivate = $f^\\prime (W \\cdot a) = f(W \\cdot a)(1 - f(W \\cdot a))$\n",
    "     * Output error = $\\delta^o = (y - \\hat y)f^\\prime(W \\cdot a) = (1 - 0.512) \\times 0.512 \\times (1 - 0.512) = 0.122$\n",
    "     * Usual hidden units error = $\\delta_j^h = \\Sigma_k W_{jk} \\delta_k^o f^\\prime(h_j)$\n",
    "     * This example single hidden unit error = $\\delta^h = W \\delta^o f^\\prime(h) = 0.1 \\times 0.122 \\times 0.495 \\times (1 - 0.495) = 0.003$\n",
    "     * Gradient descent step (output to hidden) = $\\Delta W = \\eta \\delta^o a = 0.5 \\times 0.122 \\times 0.495 = 0.0302$\n",
    "     * Gradient descent step (hidden to inputs) = $\\Delta w_i = \\eta \\delta^h x_i = (0.5 \\times 0.003 \\times 0.1, 0.5 \\times 0.003 \\times 0.3) = (0.00015, 0.00045)$\n",
    "\n",
    "From this example, you can see one of the effects of using the sigmoid function for the activations. The maximum derivative of the sigmoid function is 0.5, so the errors in the output layer get scaled by at least half, and errors in the hidden layer are scaled down by at least a quarter. You can see that if you have a lot of layers, using a sigmoid activation function will quickly reduce the weight steps to tiny values in layers near the input."
   ]
  },
  {
   "cell_type": "markdown",
   "metadata": {},
   "source": [
    "[[Top]](#Table-of-Contents)"
   ]
  },
  {
   "cell_type": "markdown",
   "metadata": {},
   "source": [
    "### Backprop algorithm for updating the weights\n",
    "\n",
    " * Set the weight steps for each layer to zero\n",
    "    * The input to hidden weights $\\Delta w_{ij} = 0$\n",
    "    * The hidden to output weights $\\Delta W_j = 0$\n",
    " * For each record in the training data:\n",
    "    * Make a forward pass through the network, calculating the output $\\hat y$ \n",
    "    * Calculate the error gradient in the output unit, $\\delta^o = (y − \\hat y)f^\\prime(z)$\n",
    "        * Where the input to the output unit = $z = \\Sigma_j W_j a_j$,\n",
    "    * Propagate the errors to the hidden layer $\\delta_j^h = \\delta^o W_j f^\\prime(h_j)$\n",
    " * Update the weight steps:\n",
    "    * $\\Delta W_j = \\Delta W_j + \\delta^o a_j$\n",
    "    * $\\Delta w_{ij} = \\Delta w_{ij} + \\delta_j^h a_i$\n",
    " * Update the weights, where $\\eta$ is the learning rate and $m$ is the number of records:\n",
    "    * $W_j = W_j + \\frac {\\eta \\Delta W_j} {m}$\n",
    "    * $w_{ij} = w_{ij} + \\frac {\\eta \\Delta w_{ij}} {m}$\n",
    " * Repeat for $e$ epochs."
   ]
  },
  {
   "cell_type": "markdown",
   "metadata": {},
   "source": [
    "[[Top]](#Table-of-Contents)"
   ]
  },
  {
   "cell_type": "markdown",
   "metadata": {},
   "source": [
    "---\n",
    "## Additional Reading\n",
    "\n",
    " * [Understanding the backward pass through Batch Normalization Layer](https://kratzert.github.io/2016/02/12/understanding-the-gradient-flow-through-the-batch-normalization-layer.html)\n",
    " * [Yes, you should understand backprop](https://medium.com/@karpathy/yes-you-should-understand-backprop-e2f06eab496b#.vt3ax2kg9)\n",
    " * [Effecient Backprop, LeCun et el., 1998](http://yann.lecun.com/exdb/publis/pdf/lecun-98b.pdf)\n",
    " * [Good intuition of momentum term in gradient descent](http://sebastianruder.com/optimizing-gradient-descent/index.html#momentum)\n",
    " * [Deep Learning Book - Chapter 4: Numerical Computation](http://www.deeplearningbook.org/contents/numerical.html)\n",
    " * [Deep Learning Book - Chapter 6: Deep Feedforward Networks](http://www.deeplearningbook.org/contents/mlp.html)\n",
    " "
   ]
  },
  {
   "cell_type": "markdown",
   "metadata": {
    "collapsed": true
   },
   "source": [
    "## Addional Videos\n",
    " * [Khan Academy: Gradient of multivariable function](https://www.khanacademy.org/math/multivariable-calculus/multivariable-derivatives/gradient-and-directional-derivatives/v/gradient)\n",
    " * [Khan Acadmey: Chain Rule Introduction](https://www.khanacademy.org/math/ap-calculus-ab/product-quotient-chain-rules-ab/chain-rule-ab/v/chain-rule-introduction)\n",
    " * [Youtube: CS231n Winter 2016 Lecture 4 Backpropagation](https://www.youtube.com/watch?v=59Hbtz7XgjM)\n",
    " * [History of Deep Learning](https://vimeo.com/170189199)"
   ]
  },
  {
   "cell_type": "markdown",
   "metadata": {},
   "source": [
    "[[Top]](#Table-of-Contents)"
   ]
  }
 ],
 "metadata": {
  "kernelspec": {
   "display_name": "Python 3",
   "language": "python",
   "name": "python3"
  },
  "language_info": {
   "codemirror_mode": {
    "name": "ipython",
    "version": 3
   },
   "file_extension": ".py",
   "mimetype": "text/x-python",
   "name": "python",
   "nbconvert_exporter": "python",
   "pygments_lexer": "ipython3",
   "version": "3.5.2"
  }
 },
 "nbformat": 4,
 "nbformat_minor": 2
}
